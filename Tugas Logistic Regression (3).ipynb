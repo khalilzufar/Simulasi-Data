{
 "cells": [
  {
   "cell_type": "code",
   "execution_count": 16,
   "id": "7a86bbf4",
   "metadata": {},
   "outputs": [
    {
     "name": "stdout",
     "output_type": "stream",
     "text": [
      "Requirement already satisfied: tabulate in c:\\users\\khalil\\appdata\\local\\programs\\python\\python311\\lib\\site-packages (0.9.0)Note: you may need to restart the kernel to use updated packages.\n",
      "\n"
     ]
    },
    {
     "name": "stderr",
     "output_type": "stream",
     "text": [
      "\n",
      "[notice] A new release of pip available: 22.3.1 -> 23.0.1\n",
      "[notice] To update, run: python.exe -m pip install --upgrade pip\n"
     ]
    }
   ],
   "source": [
    "pip install tabulate"
   ]
  },
  {
   "cell_type": "code",
   "execution_count": 36,
   "id": "867bebde",
   "metadata": {},
   "outputs": [],
   "source": [
    "import matplotlib.pyplot as plt\n",
    "import pandas as pd\n",
    "import seaborn as sns\n",
    "import numpy as np\n",
    "from sklearn.linear_model import LogisticRegression\n",
    "from sklearn.metrics import classification_report\n",
    "from sklearn.metrics import accuracy_score\n",
    "from sklearn.model_selection import train_test_split\n",
    "from tabulate import tabulate\n",
    "from sklearn import metrics"
   ]
  },
  {
   "cell_type": "code",
   "execution_count": 37,
   "id": "de233a03",
   "metadata": {},
   "outputs": [
    {
     "data": {
      "text/html": [
       "<div>\n",
       "<style scoped>\n",
       "    .dataframe tbody tr th:only-of-type {\n",
       "        vertical-align: middle;\n",
       "    }\n",
       "\n",
       "    .dataframe tbody tr th {\n",
       "        vertical-align: top;\n",
       "    }\n",
       "\n",
       "    .dataframe thead th {\n",
       "        text-align: right;\n",
       "    }\n",
       "</style>\n",
       "<table border=\"1\" class=\"dataframe\">\n",
       "  <thead>\n",
       "    <tr style=\"text-align: right;\">\n",
       "      <th></th>\n",
       "      <th>toefl</th>\n",
       "      <th>ipk</th>\n",
       "      <th>pengalaman_kerja</th>\n",
       "      <th>diterima</th>\n",
       "    </tr>\n",
       "  </thead>\n",
       "  <tbody>\n",
       "    <tr>\n",
       "      <th>0</th>\n",
       "      <td>780</td>\n",
       "      <td>4.00</td>\n",
       "      <td>3</td>\n",
       "      <td>1</td>\n",
       "    </tr>\n",
       "    <tr>\n",
       "      <th>1</th>\n",
       "      <td>750</td>\n",
       "      <td>3.09</td>\n",
       "      <td>4</td>\n",
       "      <td>1</td>\n",
       "    </tr>\n",
       "    <tr>\n",
       "      <th>2</th>\n",
       "      <td>690</td>\n",
       "      <td>3.03</td>\n",
       "      <td>3</td>\n",
       "      <td>0</td>\n",
       "    </tr>\n",
       "    <tr>\n",
       "      <th>3</th>\n",
       "      <td>710</td>\n",
       "      <td>3.07</td>\n",
       "      <td>5</td>\n",
       "      <td>1</td>\n",
       "    </tr>\n",
       "    <tr>\n",
       "      <th>4</th>\n",
       "      <td>680</td>\n",
       "      <td>3.09</td>\n",
       "      <td>4</td>\n",
       "      <td>0</td>\n",
       "    </tr>\n",
       "    <tr>\n",
       "      <th>5</th>\n",
       "      <td>730</td>\n",
       "      <td>3.07</td>\n",
       "      <td>6</td>\n",
       "      <td>1</td>\n",
       "    </tr>\n",
       "    <tr>\n",
       "      <th>6</th>\n",
       "      <td>690</td>\n",
       "      <td>2.03</td>\n",
       "      <td>1</td>\n",
       "      <td>0</td>\n",
       "    </tr>\n",
       "    <tr>\n",
       "      <th>7</th>\n",
       "      <td>720</td>\n",
       "      <td>3.03</td>\n",
       "      <td>4</td>\n",
       "      <td>1</td>\n",
       "    </tr>\n",
       "    <tr>\n",
       "      <th>8</th>\n",
       "      <td>740</td>\n",
       "      <td>3.03</td>\n",
       "      <td>5</td>\n",
       "      <td>1</td>\n",
       "    </tr>\n",
       "  </tbody>\n",
       "</table>\n",
       "</div>"
      ],
      "text/plain": [
       "   toefl   ipk  pengalaman_kerja  diterima\n",
       "0    780  4.00                 3         1\n",
       "1    750  3.09                 4         1\n",
       "2    690  3.03                 3         0\n",
       "3    710  3.07                 5         1\n",
       "4    680  3.09                 4         0\n",
       "5    730  3.07                 6         1\n",
       "6    690  2.03                 1         0\n",
       "7    720  3.03                 4         1\n",
       "8    740  3.03                 5         1"
      ]
     },
     "execution_count": 37,
     "metadata": {},
     "output_type": "execute_result"
    }
   ],
   "source": [
    "df = pd.read_csv(\"testcpns.csv\")\n",
    "df.head(9)"
   ]
  },
  {
   "cell_type": "code",
   "execution_count": 38,
   "id": "61195f7e",
   "metadata": {},
   "outputs": [
    {
     "data": {
      "text/html": [
       "<div>\n",
       "<style scoped>\n",
       "    .dataframe tbody tr th:only-of-type {\n",
       "        vertical-align: middle;\n",
       "    }\n",
       "\n",
       "    .dataframe tbody tr th {\n",
       "        vertical-align: top;\n",
       "    }\n",
       "\n",
       "    .dataframe thead th {\n",
       "        text-align: right;\n",
       "    }\n",
       "</style>\n",
       "<table border=\"1\" class=\"dataframe\">\n",
       "  <thead>\n",
       "    <tr style=\"text-align: right;\">\n",
       "      <th></th>\n",
       "      <th>toefl</th>\n",
       "      <th>ipk</th>\n",
       "      <th>pengalaman_kerja</th>\n",
       "      <th>diterima</th>\n",
       "    </tr>\n",
       "  </thead>\n",
       "  <tbody>\n",
       "    <tr>\n",
       "      <th>count</th>\n",
       "      <td>40.000000</td>\n",
       "      <td>40.000000</td>\n",
       "      <td>40.000000</td>\n",
       "      <td>40.000000</td>\n",
       "    </tr>\n",
       "    <tr>\n",
       "      <th>mean</th>\n",
       "      <td>654.000000</td>\n",
       "      <td>2.694500</td>\n",
       "      <td>3.425000</td>\n",
       "      <td>0.475000</td>\n",
       "    </tr>\n",
       "    <tr>\n",
       "      <th>std</th>\n",
       "      <td>61.427464</td>\n",
       "      <td>0.653899</td>\n",
       "      <td>1.737778</td>\n",
       "      <td>0.505736</td>\n",
       "    </tr>\n",
       "    <tr>\n",
       "      <th>min</th>\n",
       "      <td>540.000000</td>\n",
       "      <td>1.070000</td>\n",
       "      <td>1.000000</td>\n",
       "      <td>0.000000</td>\n",
       "    </tr>\n",
       "    <tr>\n",
       "      <th>25%</th>\n",
       "      <td>607.500000</td>\n",
       "      <td>2.070000</td>\n",
       "      <td>2.000000</td>\n",
       "      <td>0.000000</td>\n",
       "    </tr>\n",
       "    <tr>\n",
       "      <th>50%</th>\n",
       "      <td>660.000000</td>\n",
       "      <td>3.030000</td>\n",
       "      <td>4.000000</td>\n",
       "      <td>0.000000</td>\n",
       "    </tr>\n",
       "    <tr>\n",
       "      <th>75%</th>\n",
       "      <td>690.000000</td>\n",
       "      <td>3.070000</td>\n",
       "      <td>5.000000</td>\n",
       "      <td>1.000000</td>\n",
       "    </tr>\n",
       "    <tr>\n",
       "      <th>max</th>\n",
       "      <td>780.000000</td>\n",
       "      <td>4.000000</td>\n",
       "      <td>6.000000</td>\n",
       "      <td>1.000000</td>\n",
       "    </tr>\n",
       "  </tbody>\n",
       "</table>\n",
       "</div>"
      ],
      "text/plain": [
       "            toefl        ipk  pengalaman_kerja   diterima\n",
       "count   40.000000  40.000000         40.000000  40.000000\n",
       "mean   654.000000   2.694500          3.425000   0.475000\n",
       "std     61.427464   0.653899          1.737778   0.505736\n",
       "min    540.000000   1.070000          1.000000   0.000000\n",
       "25%    607.500000   2.070000          2.000000   0.000000\n",
       "50%    660.000000   3.030000          4.000000   0.000000\n",
       "75%    690.000000   3.070000          5.000000   1.000000\n",
       "max    780.000000   4.000000          6.000000   1.000000"
      ]
     },
     "execution_count": 38,
     "metadata": {},
     "output_type": "execute_result"
    }
   ],
   "source": [
    "df.describe()"
   ]
  },
  {
   "cell_type": "code",
   "execution_count": 39,
   "id": "15c646bf",
   "metadata": {},
   "outputs": [
    {
     "name": "stdout",
     "output_type": "stream",
     "text": [
      "toefl                 int64\n",
      "ipk                 float64\n",
      "pengalaman_kerja      int64\n",
      "diterima              int64\n",
      "dtype: object\n"
     ]
    }
   ],
   "source": [
    "print(df.dtypes)"
   ]
  },
  {
   "cell_type": "code",
   "execution_count": 40,
   "id": "c5af9bb2",
   "metadata": {},
   "outputs": [
    {
     "data": {
      "text/plain": [
       "<seaborn.axisgrid.FacetGrid at 0x1e9aefd53d0>"
      ]
     },
     "execution_count": 40,
     "metadata": {},
     "output_type": "execute_result"
    },
    {
     "data": {
      "image/png": "[encoded data removed]",
      "text/plain": [
       "<Figure size 769.611x700 with 1 Axes>"
      ]
     },
     "metadata": {},
     "output_type": "display_data"
    }
   ],
   "source": [
    "sns.FacetGrid(df, hue=\"diterima\", height=7) \\\n",
    "   .map(plt.scatter, \"ipk\", \"toefl\") \\\n",
    "   .add_legend()"
   ]
  },
  {
   "cell_type": "code",
   "execution_count": 41,
   "id": "1afb6c95",
   "metadata": {},
   "outputs": [
    {
     "data": {
      "text/plain": [
       "<seaborn.axisgrid.FacetGrid at 0x1e9b0d86a10>"
      ]
     },
     "execution_count": 41,
     "metadata": {},
     "output_type": "execute_result"
    },
    {
     "data": {
      "image/png": "[encoded data removed]",
      "text/plain": [
       "<Figure size 769.611x700 with 1 Axes>"
      ]
     },
     "metadata": {},
     "output_type": "display_data"
    }
   ],
   "source": [
    "sns.FacetGrid(df, hue=\"diterima\", height=7) \\\n",
    "   .map(plt.scatter, \"pengalaman_kerja\", \"toefl\") \\\n",
    "   .add_legend()"
   ]
  },
  {
   "cell_type": "code",
   "execution_count": 42,
   "id": "5feb80ca",
   "metadata": {},
   "outputs": [
    {
     "data": {
      "text/plain": [
       "<seaborn.axisgrid.FacetGrid at 0x1e9b0db24d0>"
      ]
     },
     "execution_count": 42,
     "metadata": {},
     "output_type": "execute_result"
    },
    {
     "data": {
      "image/png": "[encoded data removed]",
      "text/plain": [
       "<Figure size 769.611x700 with 1 Axes>"
      ]
     },
     "metadata": {},
     "output_type": "display_data"
    }
   ],
   "source": [
    "sns.FacetGrid(df, hue=\"diterima\", height=7) \\\n",
    "   .map(plt.scatter, \"pengalaman_kerja\", \"ipk\") \\\n",
    "   .add_legend()"
   ]
  },
  {
   "cell_type": "code",
   "execution_count": 43,
   "id": "a7f1e107",
   "metadata": {},
   "outputs": [
    {
     "data": {
      "image/png": "[encoded data removed]",
      "text/plain": [
       "<Figure size 1200x400 with 3 Axes>"
      ]
     },
     "metadata": {},
     "output_type": "display_data"
    }
   ],
   "source": [
    "# Using pairplot we'll visualize the data for correlation\n",
    "sns.pairplot(df, x_vars=[ 'ipk','pengalaman_kerja','toefl'], \n",
    "             y_vars='diterima', height=4, aspect=1, kind='scatter')\n",
    "plt.show()"
   ]
  },
  {
   "cell_type": "code",
   "execution_count": 44,
   "id": "a226a17f",
   "metadata": {},
   "outputs": [
    {
     "name": "stdout",
     "output_type": "stream",
     "text": [
      "Accuracy:  0.8333333333333334\n"
     ]
    },
    {
     "data": {
      "image/png": "[encoded data removed]",
      "text/plain": [
       "<Figure size 640x480 with 2 Axes>"
      ]
     },
     "metadata": {},
     "output_type": "display_data"
    }
   ],
   "source": [
    "X = df[['toefl', 'ipk','pengalaman_kerja']]\n",
    "y = df['diterima']\n",
    "\n",
    "X_train,X_test,y_train,y_test = train_test_split(X,y,test_size=0.3,random_state=0)\n",
    "\n",
    "logistic_regression= LogisticRegression()\n",
    "logistic_regression.fit(X_train,y_train)\n",
    "y_pred=logistic_regression.predict(X_test)\n",
    "\n",
    "confusion_matrix = pd.crosstab(y_test, y_pred, rownames=['Actual'], colnames=['Predicted'])\n",
    "sns.heatmap(confusion_matrix, annot=True)\n",
    "\n",
    "print('Accuracy: ',metrics.accuracy_score(y_test, y_pred))\n",
    "plt.show()"
   ]
  },
  {
   "cell_type": "code",
   "execution_count": 34,
   "id": "ae0d95b6",
   "metadata": {},
   "outputs": [
    {
     "data": {
      "text/plain": [
       "array([[5, 1],\n",
       "       [1, 5]], dtype=int64)"
      ]
     },
     "execution_count": 34,
     "metadata": {},
     "output_type": "execute_result"
    }
   ],
   "source": [
    "from sklearn import metrics\n",
    "cnf_matrix = metrics.confusion_matrix (y_test, y_pred)\n",
    "cnf_matrix"
   ]
  },
  {
   "cell_type": "code",
   "execution_count": 163,
   "id": "1e46550e",
   "metadata": {},
   "outputs": [],
   "source": [
    "X_train, X_test, y_train, y_test = train_test_split (X, y,test_size=0.3, random_state=100)"
   ]
  },
  {
   "cell_type": "code",
   "execution_count": 45,
   "id": "7dbbfaf9",
   "metadata": {},
   "outputs": [
    {
     "name": "stdout",
     "output_type": "stream",
     "text": [
      "    toefl   ipk  pengalaman_kerja\n",
      "22    550  2.03                 4\n",
      "20    620  3.03                 2\n",
      "25    670  3.03                 6\n",
      "4     680  3.09                 4\n",
      "10    610  2.07                 3\n",
      "15    610  3.00                 1\n",
      "28    650  3.07                 6\n",
      "11    690  3.07                 5\n",
      "18    650  3.07                 6\n",
      "29    660  3.03                 5\n",
      "27    580  2.03                 2\n",
      "35    650  2.03                 1\n",
      "[0 0 1 1 0 0 1 1 1 1 0 0]\n"
     ]
    }
   ],
   "source": [
    "print (X_test) \n",
    "print (y_pred)"
   ]
  },
  {
   "cell_type": "code",
   "execution_count": 186,
   "id": "ad02ab02",
   "metadata": {},
   "outputs": [
    {
     "name": "stdout",
     "output_type": "stream",
     "text": [
      "╒════╤═════════╤═══════╤════════════════════╕\n",
      "│    │   toefl │   ipk │   pengalaman_kerja │\n",
      "╞════╪═════════╪═══════╪════════════════════╡\n",
      "│ 22 │     550 │  2.03 │                  4 │\n",
      "├────┼─────────┼───────┼────────────────────┤\n",
      "│ 18 │     650 │  3.07 │                  6 │\n",
      "├────┼─────────┼───────┼────────────────────┤\n",
      "│ 37 │     580 │  3.03 │                  1 │\n",
      "├────┼─────────┼───────┼────────────────────┤\n",
      "│  5 │     730 │  3.07 │                  6 │\n",
      "├────┼─────────┼───────┼────────────────────┤\n",
      "│ 13 │     680 │  3.03 │                  4 │\n",
      "├────┼─────────┼───────┼────────────────────┤\n",
      "│  1 │     750 │  3.09 │                  4 │\n",
      "├────┼─────────┼───────┼────────────────────┤\n",
      "│ 26 │     660 │  3.07 │                  4 │\n",
      "├────┼─────────┼───────┼────────────────────┤\n",
      "│ 12 │     710 │  3.07 │                  6 │\n",
      "├────┼─────────┼───────┼────────────────────┤\n",
      "│ 29 │     660 │  3.03 │                  5 │\n",
      "├────┼─────────┼───────┼────────────────────┤\n",
      "│  9 │     690 │  1.07 │                  1 │\n",
      "├────┼─────────┼───────┼────────────────────┤\n",
      "│ 27 │     580 │  2.03 │                  2 │\n",
      "├────┼─────────┼───────┼────────────────────┤\n",
      "│ 11 │     690 │  3.07 │                  5 │\n",
      "├────┼─────────┼───────┼────────────────────┤\n",
      "│  4 │     680 │  3.09 │                  4 │\n",
      "├────┼─────────┼───────┼────────────────────┤\n",
      "│ 35 │     650 │  2.03 │                  1 │\n",
      "╘════╧═════════╧═══════╧════════════════════╛\n"
     ]
    }
   ],
   "source": [
    "print(tabulate(X_train.head(14),  headers='keys', tablefmt='fancy_grid'))"
   ]
  },
  {
   "cell_type": "code",
   "execution_count": 49,
   "id": "9f1d19dd",
   "metadata": {},
   "outputs": [
    {
     "name": "stdout",
     "output_type": "stream",
     "text": [
      "╒════╤═════════╤═══════╤════════════════════╕\n",
      "│    │   toefl │   ipk │   pengalaman_kerja │\n",
      "╞════╪═════════╪═══════╪════════════════════╡\n",
      "│  0 │     590 │  2    │                  3 │\n",
      "├────┼─────────┼───────┼────────────────────┤\n",
      "│  1 │     740 │  3.07 │                  4 │\n",
      "├────┼─────────┼───────┼────────────────────┤\n",
      "│  2 │     680 │  3.03 │                  6 │\n",
      "├────┼─────────┼───────┼────────────────────┤\n",
      "│  3 │     610 │  2.03 │                  1 │\n",
      "├────┼─────────┼───────┼────────────────────┤\n",
      "│  4 │     710 │  3    │                  5 │\n",
      "╘════╧═════════╧═══════╧════════════════════╛\n",
      "[0 1 1 0 1]\n"
     ]
    }
   ],
   "source": [
    "candidate = {'toefl': [590,740,680,610,710],\n",
    "              'ipk': [2,3.07,3.03,2.03,3],\n",
    "              'pengalaman_kerja': [3,4,6,1,5]\n",
    "              }\n",
    "df = pd.DataFrame(candidate,columns= ['toefl', 'ipk','pengalaman_kerja',])\n",
    "y_pred=logistic_regression.predict(df)\n",
    "print(tabulate(df.head(14),  headers='keys', tablefmt='fancy_grid'))\n",
    "print (y_pred)"
   ]
  },
  {
   "cell_type": "code",
   "execution_count": null,
   "id": "434daa0e",
   "metadata": {},
   "outputs": [],
   "source": []
  },
  {
   "cell_type": "code",
   "execution_count": null,
   "id": "e62c10d8",
   "metadata": {},
   "outputs": [],
   "source": []
  }
 ],
 "metadata": {
  "kernelspec": {
   "display_name": "Python 3 (ipykernel)",
   "language": "python",
   "name": "python3"
  },
  "language_info": {
   "codemirror_mode": {
    "name": "ipython",
    "version": 3
   },
   "file_extension": ".py",
   "mimetype": "text/x-python",
   "name": "python",
   "nbconvert_exporter": "python",
   "pygments_lexer": "ipython3",
   "version": "3.11.2"
  }
 },
 "nbformat": 4,
 "nbformat_minor": 5
}
